{
 "cells": [
  {
   "cell_type": "code",
   "execution_count": null,
   "metadata": {},
   "outputs": [],
   "source": [
    "def to_weird_case(string):\n",
    "    delim = ''\n",
    "    delim_space = ' '\n",
    "    sentence_lst = []\n",
    "    string_low = string.lower()\n",
    "    words_lst = string_low.split()\n",
    "    \n",
    "\n",
    "    for word in words_lst:\n",
    "        word_lst = []    # Creates and empty word list.\n",
    "        word_ltrs = [*word]    # Separates the singular word into a list of letters.\n",
    "        ltrs_len = len(word_ltrs)    # Counts number of letters in the word.\n",
    "        ltrs_rng = list(range(0, ltrs_len))    # Converts letter count into usable range.\n",
    "\n",
    "\n",
    "        for ltr in ltrs_rng:\n",
    "            if ltr % 2 == 0:\n",
    "                x = word_ltrs[ltr].capitalize()\n",
    "                word_lst.append(x)\n",
    "            else:\n",
    "                y = word_ltrs[ltr].lower()\n",
    "                word_lst.append(y)\n",
    "            conv_word = delim.join(word_lst)\n",
    "        sentence_lst.append(conv_word)\n",
    "    final_str = delim_space.join(sentence_lst)\n",
    "    \n",
    "    return final_str"
   ]
  },
  {
   "cell_type": "code",
   "execution_count": null,
   "metadata": {},
   "outputs": [],
   "source": []
  },
  {
   "cell_type": "code",
   "execution_count": null,
   "metadata": {},
   "outputs": [],
   "source": [
    "def to_weird_case_word(string):\n",
    "    return \"\".join(c.upper() if i%2 == 0 else c for i, c in enumerate(string.lower()))\n",
    "    \n",
    "def to_weird_case(string):\n",
    "    return \" \".join(to_weird_case_word(str) for str in string.split())"
   ]
  },
  {
   "cell_type": "code",
   "execution_count": null,
   "metadata": {},
   "outputs": [],
   "source": []
  },
  {
   "cell_type": "code",
   "execution_count": null,
   "metadata": {},
   "outputs": [],
   "source": [
    "to_weird_case('Here is my fantastic sample string')"
   ]
  },
  {
   "cell_type": "code",
   "execution_count": 48,
   "metadata": {},
   "outputs": [],
   "source": []
  },
  {
   "cell_type": "code",
   "execution_count": null,
   "metadata": {},
   "outputs": [],
   "source": []
  },
  {
   "cell_type": "code",
   "execution_count": 57,
   "metadata": {},
   "outputs": [],
   "source": []
  },
  {
   "cell_type": "code",
   "execution_count": null,
   "metadata": {},
   "outputs": [],
   "source": []
  },
  {
   "cell_type": "code",
   "execution_count": 54,
   "metadata": {},
   "outputs": [],
   "source": []
  },
  {
   "cell_type": "code",
   "execution_count": null,
   "metadata": {},
   "outputs": [],
   "source": []
  },
  {
   "cell_type": "code",
   "execution_count": null,
   "metadata": {},
   "outputs": [],
   "source": []
  },
  {
   "cell_type": "code",
   "execution_count": null,
   "metadata": {},
   "outputs": [],
   "source": []
  },
  {
   "cell_type": "code",
   "execution_count": null,
   "metadata": {},
   "outputs": [],
   "source": []
  },
  {
   "cell_type": "code",
   "execution_count": null,
   "metadata": {},
   "outputs": [],
   "source": []
  },
  {
   "cell_type": "code",
   "execution_count": null,
   "metadata": {},
   "outputs": [],
   "source": []
  },
  {
   "cell_type": "code",
   "execution_count": null,
   "metadata": {},
   "outputs": [],
   "source": []
  },
  {
   "cell_type": "code",
   "execution_count": 60,
   "metadata": {},
   "outputs": [],
   "source": []
  },
  {
   "cell_type": "code",
   "execution_count": 61,
   "metadata": {},
   "outputs": [
    {
     "data": {
      "text/plain": [
       "'HeRe Is My FaNtAsTiC SaMpLe StRiNg'"
      ]
     },
     "execution_count": 61,
     "metadata": {},
     "output_type": "execute_result"
    }
   ],
   "source": []
  },
  {
   "cell_type": "code",
   "execution_count": null,
   "metadata": {},
   "outputs": [],
   "source": []
  }
 ],
 "metadata": {
  "kernelspec": {
   "display_name": "Python 3",
   "language": "python",
   "name": "python3"
  },
  "language_info": {
   "codemirror_mode": {
    "name": "ipython",
    "version": 3
   },
   "file_extension": ".py",
   "mimetype": "text/x-python",
   "name": "python",
   "nbconvert_exporter": "python",
   "pygments_lexer": "ipython3",
   "version": "3.7.6"
  }
 },
 "nbformat": 4,
 "nbformat_minor": 4
}
