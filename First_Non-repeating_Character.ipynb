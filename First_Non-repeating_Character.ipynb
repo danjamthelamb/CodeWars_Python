{
 "cells": [
  {
   "cell_type": "code",
   "execution_count": null,
   "metadata": {},
   "outputs": [],
   "source": [
    "from collections import Counter"
   ]
  },
  {
   "cell_type": "code",
   "execution_count": null,
   "metadata": {},
   "outputs": [],
   "source": [
    "def first_non_repeating_letter(string):\n",
    "    original_dict = {}\n",
    "    lower_dict = {}\n",
    "    singles = []\n",
    "    string_low = string.lower()\n",
    "    Word_Count = Counter(string_low)\n",
    "    \n",
    "    \n",
    "    # Creates Dictionary of the original string\n",
    "    for x, y in enumerate(string):\n",
    "        original_dict[x] = y\n",
    "    \n",
    "    # Creates Dictionary of lower case string\n",
    "    for x, y in enumerate(string_low):\n",
    "        lower_dict[x] = y\n",
    "    \n",
    "    # Finds the first non-repeating character in the string\n",
    "    for letter, count in Word_Count.items():\n",
    "        if (count == 1):\n",
    "            singles.append(letter)\n",
    "    \n",
    "    # Determines if a character or a null is returned\n",
    "    if singles:\n",
    "        char = singles[0]\n",
    "        char_idx = {i for i in lower_dict if lower_dict[i]==char}\n",
    "        char_idx = char_idx.pop()\n",
    "        org_str_val = original_dict[char_idx]\n",
    "        first_single = org_str_val\n",
    "        \n",
    "    else:\n",
    "        first_single = ''\n",
    "        \n",
    "    return first_single"
   ]
  },
  {
   "cell_type": "code",
   "execution_count": null,
   "metadata": {},
   "outputs": [],
   "source": [
    "first_non_repeating_letter('Balloon')"
   ]
  },
  {
   "cell_type": "code",
   "execution_count": null,
   "metadata": {},
   "outputs": [],
   "source": []
  },
  {
   "cell_type": "code",
   "execution_count": null,
   "metadata": {},
   "outputs": [],
   "source": []
  },
  {
   "cell_type": "code",
   "execution_count": null,
   "metadata": {},
   "outputs": [],
   "source": []
  },
  {
   "cell_type": "code",
   "execution_count": null,
   "metadata": {},
   "outputs": [],
   "source": []
  },
  {
   "cell_type": "code",
   "execution_count": null,
   "metadata": {},
   "outputs": [],
   "source": []
  },
  {
   "cell_type": "code",
   "execution_count": null,
   "metadata": {},
   "outputs": [],
   "source": []
  },
  {
   "cell_type": "code",
   "execution_count": null,
   "metadata": {},
   "outputs": [],
   "source": []
  },
  {
   "cell_type": "code",
   "execution_count": null,
   "metadata": {},
   "outputs": [],
   "source": []
  },
  {
   "cell_type": "code",
   "execution_count": null,
   "metadata": {},
   "outputs": [],
   "source": []
  },
  {
   "cell_type": "code",
   "execution_count": null,
   "metadata": {},
   "outputs": [],
   "source": []
  }
 ],
 "metadata": {
  "kernelspec": {
   "display_name": "Python 3",
   "language": "python",
   "name": "python3"
  },
  "language_info": {
   "codemirror_mode": {
    "name": "ipython",
    "version": 3
   },
   "file_extension": ".py",
   "mimetype": "text/x-python",
   "name": "python",
   "nbconvert_exporter": "python",
   "pygments_lexer": "ipython3",
   "version": "3.7.6"
  }
 },
 "nbformat": 4,
 "nbformat_minor": 4
}
